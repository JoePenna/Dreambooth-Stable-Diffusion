{
 "cells": [
  {
   "cell_type": "markdown",
   "source": [
    "# Dreambooth\n",
    "### Notebook implementation by Joe Penna (@MysteryGuitarM on Twitter) - Improvements by David Bielejeski\n",
    "\n",
    "### Instructions\n",
    "- Sign up for RunPod here: https://runpod.io/?ref=n8yfwyum\n",
    "    - Note: That's my personal referral link. Please don't use it if we are mortal enemies.\n",
    "\n",
    "- Click *Deploy* on either `SECURE CLOUD` or `COMMUNITY CLOUD`\n",
    "\n",
    "- Follow the rest of the instructions in this video: https://www.youtube.com/watch?v=7m__xadX0z0#t=5m33.1s\n",
    "\n",
    "Latest information on:\n",
    "https://github.com/JoePenna/Dreambooth-Stable-Diffusion"
   ],
   "metadata": {}
  },
  {
   "cell_type": "markdown",
   "source": [
    "## Build Environment"
   ],
   "metadata": {
    "id": "7b971cc0"
   }
  },
  {
   "cell_type": "code",
   "execution_count": null,
   "source": [
    "# If running on Vast.AI, copy the code in this cell into a new notebook. Run it, then launch the `dreambooth_runpod_joepenna.ipynb` notebook from the jupyter interface.\r\n",
    "!git clone https://github.com/JoePenna/Dreambooth-Stable-Diffusion"
   ],
   "outputs": [],
   "metadata": {}
  },
  {
   "cell_type": "code",
   "execution_count": null,
   "source": [
    "#BUILD ENV\r\n",
    "!pip install omegaconf\r\n",
    "!pip install einops\r\n",
    "!pip install pytorch-lightning==1.6.5\r\n",
    "!pip install test-tube\r\n",
    "!pip install transformers\r\n",
    "!pip install kornia\r\n",
    "!pip install -e git+https://github.com/CompVis/taming-transformers.git@master#egg=taming-transformers\r\n",
    "!pip install -e git+https://github.com/openai/CLIP.git@main#egg=clip\r\n",
    "!pip install setuptools==59.5.0\r\n",
    "!pip install pillow==9.0.1\r\n",
    "!pip install torchmetrics==0.6.0\r\n",
    "!pip install -e .\r\n",
    "!pip install protobuf==3.20.1\r\n",
    "!pip install gdown\r\n",
    "!pip install pydrive\r\n",
    "!pip install -qq diffusers[\"training\"]==0.3.0 transformers ftfy\r\n",
    "!pip install -qq \"ipywidgets>=7,<8\"\r\n",
    "!pip install huggingface_hub\r\n",
    "!pip install ipywidgets"
   ],
   "outputs": [],
   "metadata": {
    "id": "9e1bc458-091b-42f4-a125-c3f0df20f29d",
    "scrolled": true
   }
  },
  {
   "cell_type": "code",
   "execution_count": null,
   "source": [
    "## Login to stable diffusion\r\n",
    "from huggingface_hub import notebook_login\r\n",
    "\r\n",
    "notebook_login()"
   ],
   "outputs": [],
   "metadata": {
    "id": "dae11c10"
   }
  },
  {
   "cell_type": "code",
   "execution_count": null,
   "source": [
    "## Download the 1.4 sd model\r\n",
    "from huggingface_hub import hf_hub_download\r\n",
    "downloaded_model_path = hf_hub_download(\r\n",
    " repo_id=\"CompVis/stable-diffusion-v-1-4-original\",\r\n",
    " filename=\"sd-v1-4.ckpt\",\r\n",
    " use_auth_token=True\r\n",
    ")"
   ],
   "outputs": [],
   "metadata": {
    "collapsed": false
   }
  },
  {
   "cell_type": "code",
   "execution_count": null,
   "source": [
    "## Move the sd-v1-4.ckpt to the root of this directory as \"model.ckpt\"\r\n",
    "actual_locations_of_model_blob = !readlink -f {downloaded_model_path}\r\n",
    "!mv {actual_locations_of_model_blob[-1]} model.ckpt"
   ],
   "outputs": [],
   "metadata": {
    "collapsed": false
   }
  },
  {
   "cell_type": "markdown",
   "source": [
    "# Regularization Images (Skip this section if you are uploading your own or using the provided images)"
   ],
   "metadata": {
    "id": "17d1d11a"
   }
  },
  {
   "cell_type": "markdown",
   "source": [
    "Training teaches your new model both your token **but** re-trains your class simultaneously.\n",
    "\n",
    "From cursory testing, it does not seem like reg images affect the model too much. However, they do affect your class greatly, which will in turn affect your generations.\n",
    "\n",
    "You can either generate your images here, or use the repos below to quickly download 1500 images."
   ],
   "metadata": {
    "id": "ed07a5df"
   }
  },
  {
   "cell_type": "markdown",
   "source": [
    "## Generate Regularization Images"
   ],
   "metadata": {}
  },
  {
   "cell_type": "code",
   "execution_count": null,
   "source": [
    "# GENERATE 200 images\r\n",
    "!python scripts/stable_txt2img.py \\\r\n",
    " --seed 10 \\\r\n",
    " --ddim_eta 0.0 \\\r\n",
    " --n_samples 1 \\\r\n",
    " --n_iter 200 \\\r\n",
    " --scale 10.0 \\\r\n",
    " --ddim_steps 50 \\\r\n",
    " --ckpt model.ckpt \\\r\n",
    " --prompt \"person\"\r\n",
    "\r\n",
    "# If you don't want to train against \"person\", change it to whatever you want above, and on some of the cells below:"
   ],
   "outputs": [],
   "metadata": {
    "id": "67f9ff0c-b529-4c7c-8e26-8388d70a5d91"
   }
  },
  {
   "cell_type": "code",
   "execution_count": null,
   "source": [
    "# zip up the files for downloading and reuse.\r\n",
    "!apt-get install -y zip\r\n",
    "!zip -r all_images.zip outputs/\r\n",
    "\r\n",
    "# Download this file locally so you can reuse during another training on this dataset"
   ],
   "outputs": [],
   "metadata": {
    "id": "3d1c7e1c"
   }
  },
  {
   "cell_type": "markdown",
   "source": [
    "## Or Download pre-generated regularization images\r\n",
    "\r\n",
    "We've created the following image sets\r\n",
    "\r\n",
    "* man_euler - provided by Niko Pueringer (Corridor Digital) - euler @ 40 steps, CFG 7.5\r\n",
    "* man_unsplash - pictures from various photographers\r\n",
    "* person_ddim\r\n",
    "* woman_ddim - provided by David Bielejeski - ddim @ 50 steps, CFG 10.0\r\n",
    "\r\n",
    "`person_ddim` is recommended"
   ],
   "metadata": {
    "id": "mxPL2O0OLvBW"
   }
  },
  {
   "cell_type": "code",
   "execution_count": 1,
   "source": [
    "# Grab the existing regularization images\r\n",
    "# Choose the dataset that best represents what you are trying to do and matches what you used for your token\r\n",
    "# man_euler, man_unsplash, person_ddim, woman_ddim\r\n",
    "dataset=\"person_ddim\"\r\n",
    "!git clone https://github.com/djbielejeski/Stable-Diffusion-Regularization-Images-{dataset}.git\r\n",
    "\r\n",
    "!mkdir -p outputs/txt2img-samples/samples/{dataset}\r\n",
    "!mv -v Stable-Diffusion-Regularization-Images-{dataset}/{dataset}/*.* outputs/txt2img-samples/samples/{dataset}"
   ],
   "outputs": [],
   "metadata": {
    "id": "e7EydXCjOV1v"
   }
  },
  {
   "cell_type": "markdown",
   "source": [
    "# Upload your training images\r\n",
    "Upload 10-20 images of someone\r\n",
    "\r\n",
    "WARNING: Be sure to upload an *even* amount of images, otherwise the training inexplicably stops at 1500 steps.\r\n",
    "\r\n",
    "*   2-3 full body\r\n",
    "*   3-5 upper body \r\n",
    "*   5-12 close-up on face"
   ],
   "metadata": {
    "id": "zshrC_JuMXmM"
   }
  },
  {
   "cell_type": "markdown",
   "source": [
    "# Upload your training images\r\n",
    "Upload 10-20 images of someone\r\n",
    "WARNING: Be sure to upload an *even* amount of images, otherwise the training inexplicably stops at 1500 steps.\r\n",
    "\r\n",
    "*   2-3 full body\r\n",
    "*   3-5 upper body \r\n",
    "*   5-12 close-up on face\r\n",
    "\r\n",
    "The images should be:\r\n",
    "\r\n",
    "- as close as possible to the kind of images you're trying to make (most of the time, that means no selfies)."
   ],
   "metadata": {}
  },
  {
   "cell_type": "markdown",
   "source": [
    "## Upload images to folder\r\n",
    "Upload 10-20 images of someone to\r\n",
    "```\r\n",
    "/workspace/Dreambooth-Stable-Diffusion/training_samples\r\n",
    "```"
   ],
   "metadata": {}
  },
  {
   "cell_type": "markdown",
   "source": [
    "## Or upload images from URLs"
   ],
   "metadata": {}
  },
  {
   "cell_type": "code",
   "execution_count": null,
   "source": [
    "#@markdown Add here the URLs to the images of the subject you are adding\r\n",
    "urls = [\r\n",
    " \"https://i.imgur.com/test1.png\",\r\n",
    " \"https://i.imgur.com/test2.png\",\r\n",
    " \"https://i.imgur.com/test3.png\",\r\n",
    " \"https://i.imgur.com/test4.png\",\r\n",
    " \"https://i.imgur.com/test5.png\",\r\n",
    " # You can add additional images here -- about 20-30 images in different \r\n",
    "]"
   ],
   "outputs": [],
   "metadata": {
    "collapsed": false
   }
  },
  {
   "cell_type": "code",
   "execution_count": null,
   "source": [
    "#@title Download and check the images you have just added\r\n",
    "import os\r\n",
    "import requests\r\n",
    "from io import BytesIO\r\n",
    "from PIL import Image\r\n",
    "\r\n",
    "\r\n",
    "def image_grid(imgs, rows, cols):\r\n",
    " assert len(imgs) == rows*cols\r\n",
    "\r\n",
    " w, h = imgs[0].size\r\n",
    " grid = Image.new('RGB', size=(cols*w, rows*h))\r\n",
    " grid_w, grid_h = grid.size\r\n",
    "\r\n",
    " for i, img in enumerate(imgs):\r\n",
    "  grid.paste(img, box=(i%cols*w, i//cols*h))\r\n",
    " return grid\r\n",
    "\r\n",
    "def download_image(url):\r\n",
    " try:\r\n",
    "  response = requests.get(url)\r\n",
    " except:\r\n",
    "  return None\r\n",
    " return Image.open(BytesIO(response.content)).convert(\"RGB\")\r\n",
    "\r\n",
    "images = list(filter(None,[download_image(url) for url in urls]))\r\n",
    "save_path = \"./training_samples\"\r\n",
    "if not os.path.exists(save_path):\r\n",
    " os.mkdir(save_path)\r\n",
    "[image.save(f\"{save_path}/{i}.png\", format=\"png\") for i, image in enumerate(images)]\r\n",
    "image_grid(images, 1, len(images))"
   ],
   "outputs": [],
   "metadata": {
    "collapsed": false
   }
  },
  {
   "cell_type": "markdown",
   "source": [
    "# Training\r\n"
   ],
   "metadata": {
    "id": "ad4e50df"
   }
  },
  {
   "cell_type": "markdown",
   "source": [
    "## Edit the personalized.py file\n",
    "Execute this cell `%load ldm/data/personalized.py`\n",
    "\n",
    "Change `joepenna` to whatever you want it to be (but keep the {})\n",
    "\n",
    "```\n",
    "training_templates_smallest = [\n",
    "    'joepenna {}',\n",
    "]\n",
    "```\n",
    "\n",
    "I recommend using the name of a celebrity that:\n",
    "1) kinda looks like you.\n",
    "2) Stable Diffusion generates well (you can check by typing their name on DreamStudio)\n",
    "\n",
    "Then paste this at the very top of the cell:\n",
    "```\n",
    "%%writefile ldm/data/personalized.py\n",
    "```\n",
    "\n",
    "Then run the cell again.  This will save your changes.\n"
   ],
   "metadata": {
    "collapsed": false
   }
  },
  {
   "cell_type": "code",
   "execution_count": null,
   "source": [
    "%load ldm/data/personalized.py"
   ],
   "outputs": [],
   "metadata": {
    "collapsed": false
   }
  },
  {
   "cell_type": "code",
   "execution_count": null,
   "source": [
    "# START THE TRAINING\r\n",
    "project_name = \"project_name\"\r\n",
    "\r\n",
    "# oops, this next variable should be called \"max_steps\".\r\n",
    "# It's how long you want your training to go.\r\n",
    "# If you're seeing this message, I'm literally at my computer right now fixing this up:\r\n",
    "batch_size = 1000\r\n",
    "\r\n",
    "class_word = \"person\"  # << match this word to the class word from regularization images above\r\n",
    "reg_data_root = \"/workspace/Dreambooth-Stable-Diffusion/outputs/txt2img-samples/samples/\" + dataset\r\n",
    "\r\n",
    "!rm -rf training_samples/.ipynb_checkpoints\r\n",
    "!python \"main.py\" \\\r\n",
    " --base configs/stable-diffusion/v1-finetune_unfrozen.yaml \\\r\n",
    " -t \\\r\n",
    " --actual_resume \"model.ckpt\" \\\r\n",
    " --reg_data_root {reg_data_root} \\\r\n",
    " -n {project_name} \\\r\n",
    " --gpus 0, \\\r\n",
    " --data_root \"/workspace/Dreambooth-Stable-Diffusion/training_samples\" \\\r\n",
    " --batch_size {batch_size} \\\r\n",
    " --class_word class_word"
   ],
   "outputs": [],
   "metadata": {
    "id": "6fa5dd66-2ca0-4819-907e-802e25583ae6",
    "tags": []
   }
  },
  {
   "cell_type": "markdown",
   "source": [
    "# Pruning (12GB to 2GB)\r\n",
    "We are working on having this happen automatically (TODO: PR's welcome)"
   ],
   "metadata": {}
  },
  {
   "cell_type": "code",
   "execution_count": null,
   "source": [
    "directory_paths = !ls -d logs/*"
   ],
   "outputs": [],
   "metadata": {
    "collapsed": false
   }
  },
  {
   "cell_type": "code",
   "execution_count": null,
   "source": [
    "# This version should automatically prune around 10GB from the ckpt file\r\n",
    "last_checkpoint_file = directory_paths[-1] + \"/checkpoints/last.ckpt\"\r\n",
    "!python \"prune_ckpt.py\" --ckpt {last_checkpoint_file}"
   ],
   "outputs": [],
   "metadata": {
    "collapsed": false
   }
  },
  {
   "cell_type": "code",
   "execution_count": null,
   "source": [
    "last_checkpoint_file_pruned = directory_paths[-1] + \"/checkpoints/last-pruned.ckpt\"\r\n",
    "training_samples = !ls training_samples\r\n",
    "date_string = !date +\"%Y-%m-%dT%H-%M-%S\"\r\n",
    "file_name = date_string[-1] + \"_\" + project_name + \"_\" + str(len(training_samples)) + \"_training_images_\" +  str(batch_size) + \"_batch_size_\" + class_word + \"_class_word.ckpt\"\r\n",
    "!mkdir -p trained_models\r\n",
    "!mv {last_checkpoint_file_pruned} trained_models/{file_name}"
   ],
   "outputs": [],
   "metadata": {
    "collapsed": false
   }
  },
  {
   "cell_type": "code",
   "execution_count": null,
   "source": [
    "# Download your trained model file from `trained_models` and use in your favorite Stable Diffusion repo!"
   ],
   "outputs": [],
   "metadata": {}
  },
  {
   "cell_type": "markdown",
   "source": [
    "# Big Important Note!\n",
    "\n",
    "The way to call your token"
   ],
   "metadata": {}
  },
  {
   "cell_type": "markdown",
   "source": [
    "# Download trained model\r\n",
    "You can manually download the model in `trained_models`. But that can be slow and expensive, so you could upload it to your Google Drive instead.\r\n",
    "\r\n"
   ],
   "metadata": {}
  },
  {
   "cell_type": "markdown",
   "source": [
    "## Google Drive download\r\n",
    "Open the terminal, and paste these commands"
   ],
   "metadata": {}
  },
  {
   "cell_type": "code",
   "execution_count": null,
   "source": [
    "#Download the latest release from Github\r\n",
    "wget https://github.com/prasmussen/gdrive/releases/download/2.1.1/gdrive_2.1.1_linux_386.tar.gz\r\n",
    "\r\n",
    "#Unzip the Archive\r\n",
    "tar -xvf gdrive_2.1.1_linux_386.tar.gz\r\n",
    "\r\n",
    "#Get URL to authentication page\r\n",
    "./gdrive about"
   ],
   "outputs": [],
   "metadata": {}
  },
  {
   "cell_type": "markdown",
   "source": [
    "Copy the token you get from the authentication page, and paste it in the terminal and press enter, then run the next command."
   ],
   "metadata": {}
  },
  {
   "cell_type": "code",
   "execution_count": null,
   "source": [
    "#Uploads your model to your Google Drive\r\n",
    "./gdrive upload /trained_models --recursive"
   ],
   "outputs": [],
   "metadata": {}
  },
  {
   "cell_type": "markdown",
   "source": [
    "# Generate Images With Your Trained Model!"
   ],
   "metadata": {}
  },
  {
   "cell_type": "code",
   "execution_count": null,
   "source": [
    "!python scripts/stable_txt2img.py \\\r\n",
    " --ddim_eta 0.0 \\\r\n",
    " --n_samples 1 \\\r\n",
    " --n_iter 4 \\\r\n",
    " --scale 7.0 \\\r\n",
    " --ddim_steps 50 \\\r\n",
    " --ckpt \"/workspace/Dreambooth-Stable-Diffusion/trained_models/\" + {file_name} \\\r\n",
    " --prompt \"joepenna person as a masterpiece portrait painting by John Singer Sargent in the style of Rembrandt\""
   ],
   "outputs": [],
   "metadata": {}
  }
 ],
 "metadata": {
  "colab": {
   "collapsed_sections": [],
   "provenance": []
  },
  "kernelspec": {
   "display_name": "Python 3 (ipykernel)",
   "language": "python",
   "name": "python3"
  },
  "language_info": {
   "codemirror_mode": {
    "name": "ipython",
    "version": 3
   },
   "file_extension": ".py",
   "mimetype": "text/x-python",
   "name": "python",
   "nbconvert_exporter": "python",
   "pygments_lexer": "ipython3",
   "version": "3.10.6"
  },
  "vscode": {
   "interpreter": {
    "hash": "b0fa6594d8f4cbf19f97940f81e996739fb7646882a419484c72d19e05852a7e"
   }
  }
 },
 "nbformat": 4,
 "nbformat_minor": 5
}